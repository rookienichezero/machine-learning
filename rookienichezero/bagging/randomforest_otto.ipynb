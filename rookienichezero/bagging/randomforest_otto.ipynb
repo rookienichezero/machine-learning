{
 "cells": [
  {
   "cell_type": "markdown",
   "source": [
    "## import dependencies libs"
   ],
   "metadata": {
    "collapsed": false
   },
   "id": "2b44b29c168cab51"
  },
  {
   "cell_type": "code",
   "execution_count": null,
   "outputs": [],
   "source": [
    "import numpy as np\n",
    "import pandas as pd\n",
    "import matplotlib.pyplot as plt\n",
    "from imblearn.under_sampling import RandomUnderSampler\n",
    "from sklearn.preprocessing import LabelEncoder\n",
    "from sklearn.model_selection import train_test_split\n",
    "from sklearn.ensemble import RandomForestClassifier\n",
    "from sklearn.metrics import log_loss\n",
    "from sklearn.preprocessing import OneHotEncoder"
   ],
   "metadata": {
    "collapsed": false
   },
   "id": "initial_id"
  },
  {
   "cell_type": "markdown",
   "source": [
    "## import source data"
   ],
   "metadata": {
    "collapsed": false
   },
   "id": "9e8b26bdab25bfc5"
  },
  {
   "cell_type": "code",
   "execution_count": null,
   "outputs": [],
   "source": [
    "source_data = pd.read_csv('./data/otto/train.csv')"
   ],
   "metadata": {
    "collapsed": false
   },
   "id": "f5e77089f67ca93a"
  },
  {
   "cell_type": "markdown",
   "source": [
    "## try to pre-process source data"
   ],
   "metadata": {
    "collapsed": false
   },
   "id": "aa8ab71988c9cf64"
  },
  {
   "cell_type": "code",
   "execution_count": null,
   "outputs": [],
   "source": [
    "# select top 10000 samples\n",
    "# source_data = source_data.head(10000)\n",
    "\n",
    "# format target value to number\n",
    "# source_data['target'] = source_data['target'].replace(regex='.*_',value='')"
   ],
   "metadata": {
    "collapsed": false
   },
   "id": "681de602f212eccf"
  },
  {
   "cell_type": "markdown",
   "source": [
    "## random sample the source data"
   ],
   "metadata": {
    "collapsed": false
   },
   "id": "db8b7a6a45c4df1e"
  },
  {
   "cell_type": "code",
   "execution_count": null,
   "outputs": [],
   "source": [
    "feature_values = source_data.drop(['id','target'],axis=1)\n",
    "target_values = source_data['target']\n",
    "\n",
    "random_under_sampler = RandomUnderSampler(random_state=0)\n",
    "resample_feature_values, resample_target_values = random_under_sampler.fit_resample(feature_values,target_values)\n",
    "# resample_feature_values, resample_target_values = feature_values, target_values"
   ],
   "metadata": {
    "collapsed": false
   },
   "id": "417a511ef2afdec4"
  },
  {
   "cell_type": "markdown",
   "source": [
    "## convert the target value so that machine can process them more easily"
   ],
   "metadata": {
    "collapsed": false
   },
   "id": "37fb0bf59e8c398"
  },
  {
   "cell_type": "code",
   "execution_count": null,
   "outputs": [],
   "source": [
    "label_encoder = LabelEncoder()\n",
    "encod_resample_target_values= label_encoder.fit_transform(resample_target_values)"
   ],
   "metadata": {
    "collapsed": false
   },
   "id": "69f944f4d48296e8"
  },
  {
   "cell_type": "markdown",
   "source": [
    "## split the resampled data into train data and test data"
   ],
   "metadata": {
    "collapsed": false
   },
   "id": "c804e56f95182879"
  },
  {
   "cell_type": "code",
   "execution_count": null,
   "outputs": [],
   "source": [
    "train_data, test_data, train_target, test_target = train_test_split(resample_feature_values, encod_resample_target_values, test_size=0.25,random_state=0)"
   ],
   "metadata": {
    "collapsed": false
   },
   "id": "9a8dce20100c041c"
  },
  {
   "cell_type": "markdown",
   "source": [
    "## train model"
   ],
   "metadata": {
    "collapsed": false
   },
   "id": "33a1185c9f1beaf2"
  },
  {
   "cell_type": "code",
   "execution_count": null,
   "outputs": [],
   "source": [
    "random_forest_classifier = RandomForestClassifier(oob_score=True)\n",
    "random_forest_classifier.fit(train_data,train_target)"
   ],
   "metadata": {
    "collapsed": false
   },
   "id": "c2201c6a9d7a41b5"
  },
  {
   "cell_type": "markdown",
   "source": [
    "## predict the test target value  "
   ],
   "metadata": {
    "collapsed": false
   },
   "id": "e001b4b45ee8c3a6"
  },
  {
   "cell_type": "code",
   "execution_count": null,
   "outputs": [],
   "source": [
    "predict_test_target = random_forest_classifier.predict(test_data)"
   ],
   "metadata": {
    "collapsed": false
   },
   "id": "5f93f5f5905bad1a"
  },
  {
   "cell_type": "markdown",
   "source": [
    "## score the model"
   ],
   "metadata": {
    "collapsed": false
   },
   "id": "8d18dc7c23e244d0"
  },
  {
   "cell_type": "code",
   "execution_count": null,
   "outputs": [],
   "source": [
    "random_forest_classifier.score(test_data,test_target)"
   ],
   "metadata": {
    "collapsed": false
   },
   "id": "6f59f4ea914af737"
  },
  {
   "cell_type": "markdown",
   "source": [
    "## log loss value "
   ],
   "metadata": {
    "collapsed": false
   },
   "id": "c292ffeba86f52b5"
  },
  {
   "cell_type": "code",
   "execution_count": null,
   "outputs": [],
   "source": [
    "one_hot_encoder = OneHotEncoder(sparse_output=False)\n",
    "\n",
    "one_hot_test_target= one_hot_encoder.fit_transform(test_target.reshape(-1,1))\n",
    "one_hot_predict_test_target= one_hot_encoder.fit_transform(predict_test_target.reshape(-1,1))\n",
    "\n",
    "loss_value = log_loss(y_true=one_hot_test_target, y_pred=one_hot_predict_test_target ,eps=1e-15, normalize=True)\n",
    "loss_value"
   ],
   "metadata": {
    "collapsed": false
   },
   "id": "f8544728a78343df"
  },
  {
   "cell_type": "code",
   "execution_count": null,
   "outputs": [],
   "source": [
    "predict_proba_test_target = random_forest_classifier.predict_proba(test_data)\n",
    "loss_value = log_loss(y_true=one_hot_test_target, y_pred=predict_proba_test_target ,eps=1e-15, normalize=True)\n",
    "loss_value"
   ],
   "metadata": {
    "collapsed": false
   },
   "id": "5f4a2c07b65185a9"
  },
  {
   "cell_type": "code",
   "execution_count": null,
   "outputs": [],
   "source": [
    "predict_proba_result = pd.DataFrame(predict_proba_test_target)\n",
    "predict_proba_result.columns = label_encoder.inverse_transform(predict_proba_result.columns.values)\n",
    "predict_proba_result"
   ],
   "metadata": {
    "collapsed": false
   },
   "id": "bbed1ed09b789ed8"
  },
  {
   "cell_type": "markdown",
   "source": [
    "## model optimization\n",
    "### n_estimators, max_feature, max_depth, min_samples_leaf"
   ],
   "metadata": {
    "collapsed": false
   },
   "id": "11412ca5cfff3cbe"
  },
  {
   "cell_type": "code",
   "execution_count": null,
   "outputs": [],
   "source": [
    "# tune_parameters = range(5,200,10)\n",
    "tune_parameters = range(1,30,1)\n",
    "\n",
    "accuracy = np.zeros(len(tune_parameters))\n",
    "error = np.zeros(len(tune_parameters))\n",
    "\n",
    "for index, parameter in enumerate(tune_parameters):\n",
    "    random_forest_classifier_optimization = RandomForestClassifier(n_estimators=175,\n",
    "                           max_features=15,\n",
    "                           max_depth=30,\n",
    "                           min_samples_leaf=1,\n",
    "                           oob_score=True,\n",
    "                           random_state=0,\n",
    "                           n_jobs=-1)\n",
    "    random_forest_classifier_optimization.fit(train_data, train_target)\n",
    "    accuracy[index] = random_forest_classifier_optimization.oob_score_\n",
    "\n",
    "    predict_proba_test_data = random_forest_classifier_optimization.predict_proba(test_data)\n",
    "    error[index] = log_loss(one_hot_test_target,predict_proba_test_data,eps=1e-15,normalize=True)\n",
    "    \n",
    "    print(error)"
   ],
   "metadata": {
    "collapsed": false
   },
   "id": "e87ca6f4e05a4671"
  },
  {
   "cell_type": "code",
   "execution_count": null,
   "outputs": [],
   "source": [
    "from matplotlib.axes import Axes\n",
    "\n",
    "plt.figure(figsize=(10,10), dpi=100)\n",
    "\n",
    "fig, axes = plt.subplots(nrows=2,ncols=1)\n",
    "error_axes: Axes = axes[0]\n",
    "accuracy_axes: Axes = axes[1]\n",
    "\n",
    "error_axes.plot(tune_parameters, error)\n",
    "error_axes.set_title('error - n_estimators')\n",
    "error_axes.set_xlabel('n_estimators')\n",
    "error_axes.set_ylabel('error')\n",
    "\n",
    "error_axes.grid(True)\n",
    "\n",
    "accuracy_axes.plot(tune_parameters, accuracy)\n",
    "accuracy_axes.set_title('accuracy - n_estimators')\n",
    "accuracy_axes.set_xlabel('n_estimators')\n",
    "accuracy_axes.set_ylabel('accuracy')\n",
    "\n",
    "error_axes.grid(True)\n",
    "\n",
    "plt.show()"
   ],
   "metadata": {
    "collapsed": false
   },
   "id": "5f16681b59497e58"
  },
  {
   "cell_type": "code",
   "execution_count": null,
   "outputs": [],
   "source": [
    "from matplotlib.axes import Axes\n",
    "\n",
    "plt.figure(figsize=(10,10), dpi=100)\n",
    "\n",
    "fig, axes = plt.subplots(nrows=2,ncols=1)\n",
    "error_axes: Axes = axes[0]\n",
    "accuracy_axes: Axes = axes[1]\n",
    "\n",
    "error_axes.plot(tune_parameters, error)\n",
    "error_axes.set_title('error - max_features')\n",
    "error_axes.set_xlabel('max_features')\n",
    "error_axes.set_ylabel('error')\n",
    "\n",
    "error_axes.grid(True)\n",
    "\n",
    "accuracy_axes.plot(tune_parameters, accuracy)\n",
    "accuracy_axes.set_title('accuracy - max_features')\n",
    "accuracy_axes.set_xlabel('max_features')\n",
    "accuracy_axes.set_ylabel('accuracy')\n",
    "\n",
    "error_axes.grid(True)\n",
    "\n",
    "plt.show()"
   ],
   "metadata": {
    "collapsed": false
   },
   "id": "eec728d55931c683"
  },
  {
   "cell_type": "code",
   "execution_count": null,
   "outputs": [],
   "source": [
    "from matplotlib.axes import Axes\n",
    "\n",
    "plt.figure(figsize=(10,10), dpi=100)\n",
    "\n",
    "fig, axes = plt.subplots(nrows=2,ncols=1)\n",
    "error_axes: Axes = axes[0]\n",
    "accuracy_axes: Axes = axes[1]\n",
    "\n",
    "error_axes.plot(tune_parameters, error)\n",
    "error_axes.set_title('error - max_depth')\n",
    "error_axes.set_xlabel('max_depth')\n",
    "error_axes.set_ylabel('error')\n",
    "\n",
    "error_axes.grid(True)\n",
    "\n",
    "accuracy_axes.plot(tune_parameters, accuracy)\n",
    "accuracy_axes.set_title('accuracy - max_depth')\n",
    "accuracy_axes.set_xlabel('max_depth')\n",
    "accuracy_axes.set_ylabel('accuracy')\n",
    "\n",
    "error_axes.grid(True)\n",
    "\n",
    "plt.show()"
   ],
   "metadata": {
    "collapsed": false
   },
   "id": "8131c031554ea177"
  },
  {
   "cell_type": "code",
   "execution_count": null,
   "outputs": [],
   "source": [
    "from matplotlib.axes import Axes\n",
    "\n",
    "plt.figure(figsize=(10,10), dpi=100)\n",
    "\n",
    "fig, axes = plt.subplots(nrows=2,ncols=1)\n",
    "error_axes: Axes = axes[0]\n",
    "accuracy_axes: Axes = axes[1]\n",
    "\n",
    "error_axes.plot(tune_parameters, error)\n",
    "error_axes.set_title('error - min_samples_leaf')\n",
    "error_axes.set_xlabel('min_samples_leaf')\n",
    "error_axes.set_ylabel('error')\n",
    "\n",
    "error_axes.grid(True)\n",
    "\n",
    "accuracy_axes.plot(tune_parameters, accuracy)\n",
    "accuracy_axes.set_title('accuracy - min_samples_leaf')\n",
    "accuracy_axes.set_xlabel('min_samples_leaf')\n",
    "accuracy_axes.set_ylabel('accuracy')\n",
    "\n",
    "error_axes.grid(True)\n",
    "\n",
    "plt.show()"
   ],
   "metadata": {
    "collapsed": false
   },
   "id": "ce8e1785d092b090"
  },
  {
   "cell_type": "markdown",
   "source": [
    " RandomForestClassifier(n_estimators=175,\n",
    "                        max_features=15,\n",
    "                        max_depth=30,\n",
    "                        min_samples_leaf=1)"
   ],
   "metadata": {
    "collapsed": false
   },
   "id": "9725379a778cd483"
  },
  {
   "cell_type": "code",
   "execution_count": null,
   "outputs": [],
   "source": [
    "final_random_forest_classifier= RandomForestClassifier(\n",
    "    n_estimators=175,\n",
    "    max_features=15,\n",
    "    max_depth=30,\n",
    "    min_samples_leaf=1,\n",
    "    oob_score=True,\n",
    "    random_state=0,\n",
    "    n_jobs=-1\n",
    ")\n",
    "\n",
    "final_random_forest_classifier.fit(train_data,train_target)\n",
    "\n",
    "final_random_forest_classifier.score(test_data,test_target)"
   ],
   "metadata": {
    "collapsed": false
   },
   "id": "67b0d19eb812fa86"
  },
  {
   "cell_type": "code",
   "execution_count": null,
   "outputs": [],
   "source": [
    "final_random_forest_classifier.oob_score_"
   ],
   "metadata": {
    "collapsed": false
   },
   "id": "15293f22148de7b1"
  },
  {
   "cell_type": "code",
   "execution_count": null,
   "outputs": [],
   "source": [
    "predict_proba_test_data = final_random_forest_classifier.predict_proba(test_data)"
   ],
   "metadata": {
    "collapsed": false
   },
   "id": "fa53afe8f69c567d"
  },
  {
   "cell_type": "code",
   "execution_count": null,
   "outputs": [],
   "source": [
    "log_loss(y_true=test_target,y_pred=predict_proba_test_data)"
   ],
   "metadata": {
    "collapsed": false
   },
   "id": "ea0f9046bbff6653"
  },
  {
   "cell_type": "code",
   "execution_count": null,
   "outputs": [],
   "source": [],
   "metadata": {
    "collapsed": false
   },
   "id": "32d9ab7aeff6c488"
  },
  {
   "cell_type": "code",
   "execution_count": null,
   "outputs": [],
   "source": [],
   "metadata": {
    "collapsed": false
   },
   "id": "4248c1e06400b12"
  },
  {
   "cell_type": "code",
   "execution_count": null,
   "outputs": [],
   "source": [
    "data_frame_predict_result = pd.DataFrame(predict_proba_test_data, columns=['Class_' + str(index) for index in range(1,10)])\n",
    "data_frame_predict_result.insert(loc=0, column='id', value=test_data.index.tolist())\n",
    "data_frame_predict_result.to_csv('./generation/submission.csv',index=False)"
   ],
   "metadata": {
    "collapsed": false
   },
   "id": "f6a3f078571a7c90"
  },
  {
   "cell_type": "code",
   "execution_count": null,
   "outputs": [],
   "source": [
    "pd.read_csv('./generation/submission.csv')"
   ],
   "metadata": {
    "collapsed": false
   },
   "id": "f06c2eb72bcc89f3"
  },
  {
   "cell_type": "code",
   "execution_count": null,
   "outputs": [],
   "source": [],
   "metadata": {
    "collapsed": false
   },
   "id": "817771e0ca4d1c4"
  }
 ],
 "metadata": {
  "kernelspec": {
   "display_name": "Python 3",
   "language": "python",
   "name": "python3"
  },
  "language_info": {
   "codemirror_mode": {
    "name": "ipython",
    "version": 2
   },
   "file_extension": ".py",
   "mimetype": "text/x-python",
   "name": "python",
   "nbconvert_exporter": "python",
   "pygments_lexer": "ipython2",
   "version": "2.7.6"
  }
 },
 "nbformat": 4,
 "nbformat_minor": 5
}
